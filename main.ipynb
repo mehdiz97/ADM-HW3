{
 "cells": [
  {
   "cell_type": "markdown",
   "metadata": {
    "id": "p_sR4Bs01xqO"
   },
   "source": [
    "# Homework 3 - What is the best anime in the world?\n",
    "\n",
    "Algorithmic Methods of Data Mining; Group #28\n",
    "\n",
    "mohammadmehdirazavi97@gmail.com、zhangxufeng1998@gmail.com pristera.1657095@studenti.uniroma1.it"
   ]
  },
  {
   "cell_type": "markdown",
   "metadata": {
    "id": "hNdYnOhwvQNi"
   },
   "source": [
    "## Question 1: Data Collection\n"
   ]
  },
  {
   "cell_type": "code",
   "execution_count": 105,
   "metadata": {
    "colab": {
     "base_uri": "https://localhost:8080/",
     "height": 363
    },
    "executionInfo": {
     "elapsed": 382,
     "status": "error",
     "timestamp": 1636813853618,
     "user": {
      "displayName": "Mehdi Razavi",
      "photoUrl": "https://lh3.googleusercontent.com/a/default-user=s64",
      "userId": "09859070915674130451"
     },
     "user_tz": -210
    },
    "id": "SclLDiEfhoDl",
    "outputId": "1c530604-c92a-42fb-f24c-5da7947a2558"
   },
   "outputs": [
    {
     "name": "stderr",
     "output_type": "stream",
     "text": [
      "[nltk_data] Downloading package punkt to\n",
      "[nltk_data]     C:\\Users\\mehdi\\AppData\\Roaming\\nltk_data...\n",
      "[nltk_data]   Package punkt is already up-to-date!\n"
     ]
    }
   ],
   "source": [
    "# from ADMhw3functions import *\n",
    "# import modules\n",
    "import urllib.request, urllib.parse, urllib.error\n",
    "from bs4 import BeautifulSoup\n",
    "import time\n",
    "import os\n",
    "import random\n",
    "import datetime\n",
    "import re\n",
    "import heapq\n",
    "import numpy as np\n",
    "import pandas as pd\n",
    "import nltk\n",
    "nltk.download('punkt')\n",
    "import math\n",
    "import warnings\n",
    "warnings.filterwarnings('ignore')"
   ]
  },
  {
   "cell_type": "markdown",
   "metadata": {
    "id": "KqIXhqZwytR5"
   },
   "source": [
    "### 1.1 Get the list of animes"
   ]
  },
  {
   "cell_type": "code",
   "execution_count": null,
   "metadata": {
    "id": "KEkGKb9_wHoD"
   },
   "outputs": [],
   "source": [
    "test = 'https://myanimelist.net/anime/'\n",
    "linkhead = 'https://myanimelist.net/topanime.php?limit='\n",
    "anime_link = []\n",
    "for i in range(0,19150,50):\n",
    "    anime_link.append(linkhead+str(i)) #Generate the url where we need to get the anime url on it.\n",
    "\n",
    "real_link = []\n",
    "for link_item in anime_link:  \n",
    "    link =getlink(link_item)\n",
    "    while link == []:# Sometimes there is no info in the html we got (maybe for network or others). If it happens, this loop can correct it.\n",
    "        link =getlink(link_item) # get the link\n",
    "    time.sleep(0.5)\n",
    "    for item in link:\n",
    "        if (item != None) and (test in item) and ('video' not in item) and ('season?_location') not in item: #delete the links which we don't need\n",
    "            real_link.append(item)\n",
    "    \n",
    "    real_link = real_link[0:-10] # delete the links at the bottom of the web page. Thera are animes, but they also appear in the top anime list."
   ]
  },
  {
   "cell_type": "code",
   "execution_count": null,
   "metadata": {
    "id": "RubyOWwixX8L"
   },
   "outputs": [],
   "source": [
    "link_set = []\n",
    "for i in range(len(real_link)):\n",
    "    if i%2 == 0:\n",
    "        link_set.append(real_link[i])\n",
    "# What we get have two same items for each anime before. So we wrote a loop to delete the duplicates"
   ]
  },
  {
   "cell_type": "code",
   "execution_count": null,
   "metadata": {
    "id": "0mkVAuV4x4Zx"
   },
   "outputs": [],
   "source": [
    "with open('link_set.txt','w',encoding = 'utf-8') as f:\n",
    "    for i in link_set:\n",
    "        f.write(i+'\\n')\n",
    "\n",
    "f.close # Finally, we saved links at local directory."
   ]
  },
  {
   "cell_type": "markdown",
   "metadata": {
    "id": "p1GlAO1Zx_71"
   },
   "source": [
    "### 1.2 Crawl animes"
   ]
  },
  {
   "cell_type": "code",
   "execution_count": null,
   "metadata": {
    "colab": {
     "base_uri": "https://localhost:8080/"
    },
    "executionInfo": {
     "elapsed": 430,
     "status": "ok",
     "timestamp": 1636513057643,
     "user": {
      "displayName": "Xufeng Zhang",
      "photoUrl": "https://lh3.googleusercontent.com/a-/AOh14GjDsphL-029hL8pNV5wiHZFZwobwxMqU-0G_ueU=s64",
      "userId": "13895335801233741998"
     },
     "user_tz": -480
    },
    "id": "2zC-Ej5KzGlL",
    "outputId": "d448a8fe-df7e-4f56-e75f-298648a780b5"
   },
   "outputs": [
    {
     "name": "stdout",
     "output_type": "stream",
     "text": [
      "0    https://myanimelist.net/anime/5114/Fullmetal_A...\n",
      "1       https://myanimelist.net/anime/28977/Gintama°\\n\n",
      "2    https://myanimelist.net/anime/38524/Shingeki_n...\n",
      "3     https://myanimelist.net/anime/9253/Steins_Gate\\n\n",
      "4    https://myanimelist.net/anime/42938/Fruits_Bas...\n",
      "dtype: object\n",
      "Total number of the urls is 19131\n"
     ]
    }
   ],
   "source": [
    "f = open('/content/drive/MyDrive/Algorithmic methods for data mining/HW3/Data/link_set.txt','r',encoding = 'utf-8') \n",
    "link_set = f.readlines()\n",
    "link = []\n",
    "for line in link_set:\n",
    "    link.append(line)\n",
    "# load the link data and transfer it to list\n",
    "print(pd.Series(link).head())\n",
    "print(\"Total number of the urls is \"+str(len(link)))"
   ]
  },
  {
   "cell_type": "code",
   "execution_count": null,
   "metadata": {
    "id": "H9uigZ5nzqw6"
   },
   "outputs": [],
   "source": [
    "for i in range(0,383): #You can change the number here for part data set; you need to replace it by your data range. \n",
    "    path = 'C:\\\\Users\\\\zhang\\\\Desktop\\\\Untitled Folder\\\\page '+ str(i+1) # path we store the html\n",
    "    os.mkdir(path) # For each page, we creat a folder\n",
    "    os.chdir(path) \n",
    "    for j in range(i*50,(i+1)*50): # count the number of files in each folder.\n",
    "        new_url = ''\n",
    "        aurl = link[j]\n",
    "        sums = 0\n",
    "        for k in aurl: # Beacuse there are some ascii characters in url, we delete the name of animes in urls. It still works after we delete the name. \n",
    "            if k == '/':\n",
    "                sums = sums +1\n",
    "            if sums != 5:\n",
    "                new_url = new_url + k\n",
    "\n",
    "        ahtml = getHtml(new_url)\n",
    "        saveHtml('Anime '+str(j+1), ahtml)\n",
    "\n",
    "    print('Page '+str(i+1)+' downloaded successfully.') "
   ]
  },
  {
   "cell_type": "markdown",
   "metadata": {
    "id": "2BJyuFVC0skt"
   },
   "source": [
    "### 1.3 Parse downloaded pages"
   ]
  },
  {
   "cell_type": "code",
   "execution_count": null,
   "metadata": {
    "id": "MeShmSAF0uHU"
   },
   "outputs": [],
   "source": [
    "# File organize; Put all htmls into one folder.\n",
    "import os\n",
    "import shutil\n",
    "\n",
    "#source_path = os.path.abspath(r'/content/drive/MyDrive/Algorithmic methods for data mining/HW3/HTML/Mehdi HTML')\n",
    "source_path = os.path.abspath(r'/content/drive/MyDrive/Algorithmic methods for data mining/HW3/HTML/Xufeng HTML')\n",
    "#source_path = os.path.abspath(r'/content/drive/MyDrive/Algorithmic methods for data mining/HW3/HTML/Daniele HTML/File 141-280')\n",
    "target_path = os.path.abspath(r'/content/drive/MyDrive/Algorithmic methods for data mining/HW3/All html')\n",
    "\n",
    "if not os.path.exists(target_path):\n",
    "    os.makedirs(target_path)\n",
    "\n",
    "if os.path.exists(source_path):\n",
    "    for root, dirs, files in os.walk(source_path):\n",
    "        for file in files:\n",
    "            src_file = os.path.join(root, file)\n",
    "            shutil.copy(src_file, target_path)\n",
    "            print(src_file)\n",
    "\n",
    "print('copy files finished!')\n"
   ]
  },
  {
   "cell_type": "code",
   "execution_count": null,
   "metadata": {
    "id": "NX22vBes1CFV"
   },
   "outputs": [],
   "source": [
    "import glob\n",
    "path_file_number=glob.glob('/content/drive/MyDrive/Algorithmic methods for data mining/tsv_HW3/*.html') \n",
    "print(path_file_number)\n",
    "print(len(path_file_number))\n",
    "# count for the number of files in specific path"
   ]
  },
  {
   "cell_type": "code",
   "execution_count": null,
   "metadata": {
    "id": "lu-hz1s_H7Is"
   },
   "outputs": [],
   "source": [
    "file_name = \"Anime \"\n",
    "file_name_list = []\n",
    "for i in range(0,19131):\n",
    "    file_name_list.append(file_name + str(i+1)+'.html')\n",
    "file_path = []\n",
    "for j in range(0,19131):\n",
    "    file_path.append('/content/drive/MyDrive/Algorithmic methods for data mining/HW3/All html/'+str(file_name_list[j]))\n",
    "# creat the path list thst we stored the htmls"
   ]
  },
  {
   "cell_type": "code",
   "execution_count": null,
   "metadata": {
    "id": "auM8yfgaaQ1b"
   },
   "outputs": [],
   "source": [
    "tsv_path = '/content/drive/MyDrive/Algorithmic methods for data mining/tsv_HW3/anime_'\n",
    "tsv_name = []\n",
    "for k in range(0,19131):\n",
    "  tsv_name.append(str(k+1)+'.tsv')\n",
    "tsv_path_list = []\n",
    "for l in range(0,19131):\n",
    "  tsv_path_list.append(tsv_path+tsv_name[l])\n",
    "# creat the path list that we store tsv file for each anime"
   ]
  },
  {
   "cell_type": "code",
   "execution_count": null,
   "metadata": {
    "id": "l_kfMp-wvOAT"
   },
   "outputs": [],
   "source": [
    "for m in range(0,19131):\n",
    "  with open(tsv_path_list[m],'w',encoding = 'utf-8') as f:\n",
    "      tsv = ' \\t '\n",
    "      table_head = 'animeTitle'+tsv+'animeType'+tsv+'animeNumEpisode'+tsv+'releaseDate'+tsv+'endDate'+tsv+'animeNumMembers'+tsv+'animeScore'+tsv+'animeUsers'+tsv+'animeRank'+tsv+'animePopularity'+tsv+'animeDescription'+tsv+'animeRelated'+tsv+'animeCharacters'+tsv+'animeVoices'+tsv+'animeStaff'+'\\n'\n",
    "      f.write(table_head)\n",
    "      temp = getinfo(file_path[m])# get the info by using functions we defined\n",
    "      temp = temp + '\\n'\n",
    "      f.write(temp)\n",
    "  f.close\n",
    "  print('file ' + str(m) +' finished.')\n",
    "  # get info from html and write it into tsv file"
   ]
  },
  {
   "cell_type": "code",
   "execution_count": null,
   "metadata": {
    "id": "AjFP0HnevlzU"
   },
   "outputs": [],
   "source": [
    "# put all tsv files into one file\n",
    "with open('/content/drive/MyDrive/Algorithmic methods for data mining/HW3/all_info_tsv/animes.tsv','w',encoding = 'utf-8') as allf:\n",
    "  for n in range(0,19131):\n",
    "    with open(tsv_path_list[n],'r+',encoding = 'utf-8') as sf:\n",
    "      for o in range(2):\n",
    "        lineinfo = sf.readline()\n",
    "        if n == 0 and o == 0:\n",
    "          allf.write(lineinfo)\n",
    "        if o == 1:\n",
    "          allf.write(lineinfo)\n",
    "    sf.close\n",
    "allf.close"
   ]
  },
  {
   "cell_type": "code",
   "execution_count": 9,
   "metadata": {
    "colab": {
     "base_uri": "https://localhost:8080/",
     "height": 505
    },
    "executionInfo": {
     "elapsed": 371,
     "status": "error",
     "timestamp": 1636814840986,
     "user": {
      "displayName": "Mehdi Razavi",
      "photoUrl": "https://lh3.googleusercontent.com/a/default-user=s64",
      "userId": "09859070915674130451"
     },
     "user_tz": -210
    },
    "id": "14N4xPdHwMj7",
    "outputId": "876b74f9-b9a2-4324-fc59-080127ea4c86"
   },
   "outputs": [
    {
     "name": "stdout",
     "output_type": "stream",
     "text": [
      "                          animeTitle   animeType   animeNumEpisode   \\\n",
      "0  Fullmetal Alchemist: Brotherho...          TV                64    \n",
      "1                           Gintama°          TV                51    \n",
      "2  Shingeki no Kyojin Season 3 Pa...          TV                10    \n",
      "3                        Steins;Gate          TV                24    \n",
      "4           Fruits Basket: The Final          TV                13    \n",
      "\n",
      "   releaseDate       endDate    animeNumMembers   animeScore   animeUsers   \\\n",
      "0   2009-04-05    2010-07-04             2676862        9.16      1629051    \n",
      "1   2015-04-08    2016-03-30              484040        9.09       169476    \n",
      "2   2019-04-29    2019-07-01             1597175        9.09      1087519    \n",
      "3   2011-04-06    2011-09-14             2091647        9.09      1109700    \n",
      "4   2021-04-06    2021-06-29              275549        9.07       113310    \n",
      "\n",
      "   animeRank    animePopularity   \\\n",
      "0          1                   3   \n",
      "1          2                 337   \n",
      "2          3                  33   \n",
      "3          4                  11   \n",
      "4          5                 652   \n",
      "\n",
      "                                   animeDescription   \\\n",
      "0   After a horrific alchemy experiment goes wron...   \n",
      "1   Gintoki, Shinpachi, and Kagura return as the ...   \n",
      "2   Seeking to restore humanity&#039;s diminishin...   \n",
      "3   The self-proclaimed mad scientist Rintarou Ok...   \n",
      "4   Hundreds of years ago, the Chinese Zodiac spi...   \n",
      "\n",
      "                                       animeRelated   \\\n",
      "0   ['Adaptation:Fullmetal Alchemist', 'Alternati...   \n",
      "1   ['Adaptation:Gintama', 'Prequel:Gintama Movie...   \n",
      "2   ['Adaptation:Shingeki no Kyojin', 'Prequel:Sh...   \n",
      "3   ['Adaptation:Steins;Gate', 'Alternative setti...   \n",
      "4   ['Adaptation:Fruits Basket', 'Prequel:Fruits ...   \n",
      "\n",
      "                                    animeCharacters   \\\n",
      "0   ['Elric, Edward', 'Elric, Alphonse', 'Mustang...   \n",
      "1   ['Sakata, Gintoki', 'Kagura', 'Shimura, Shinp...   \n",
      "2   ['Levi', 'Yeager, Eren', 'Ackerman, Mikasa', ...   \n",
      "3   ['Okabe, Rintarou', 'Makise, Kurisu', 'Shiina...   \n",
      "4   ['Souma, Kyou', 'Honda, Tooru', 'Souma, Yuki'...   \n",
      "\n",
      "                                        animeVoices   \\\n",
      "0   ['Park, Romi', 'Kugimiya, Rie', 'Miki, Shinic...   \n",
      "1   ['Sugita, Tomokazu', 'Kugimiya, Rie', 'Sakagu...   \n",
      "2   ['Kamiya, Hiroshi', 'Kaji, Yuki', 'Ishikawa, ...   \n",
      "3   ['Miyano, Mamoru', 'Imai, Asami', 'Hanazawa, ...   \n",
      "4   ['Uchida, Yuuma', 'Iwami, Manaka', 'Shimazaki...   \n",
      "\n",
      "                                          animeStaff  \n",
      "0   ['Cook, Justin', 'Yonai, Noritomo', 'Irie, Ya...  \n",
      "1   ['Fujita, Youichi', 'Miyawaki, Chizuru', 'Tak...  \n",
      "2   ['Yabuta, Shuuhei', 'Wada, Jouji', 'Morishita...  \n",
      "3   ['Iwasa, Gaku', 'Yasuda, Takeshi', 'Hamasaki,...  \n",
      "4   ['Ibata, Yoshihide', 'Aketagawa, Jin', 'WARPs...  \n",
      "There are 19131 cases in this DataFrame.\n"
     ]
    }
   ],
   "source": [
    "# Describe the data\n",
    "import pandas as pd\n",
    "anime_data = pd.read_csv('animes.tsv',sep = '\\t')\n",
    "print(anime_data.head())\n",
    "print(\"There are \"+ str(len(anime_data)) + ' cases in this DataFrame.')"
   ]
  },
  {
   "cell_type": "markdown",
   "metadata": {
    "id": "qXEMkba4FPeX"
   },
   "source": [
    "## Question 2: Search Engine\n"
   ]
  },
  {
   "cell_type": "markdown",
   "metadata": {
    "id": "MakUJHcf0Svu"
   },
   "source": [
    "### 2.1 Conjunctive query"
   ]
  },
  {
   "cell_type": "code",
   "execution_count": 10,
   "metadata": {
    "colab": {
     "base_uri": "https://localhost:8080/"
    },
    "executionInfo": {
     "elapsed": 2002,
     "status": "ok",
     "timestamp": 1636727582702,
     "user": {
      "displayName": "Xufeng Zhang",
      "photoUrl": "https://lh3.googleusercontent.com/a-/AOh14GjDsphL-029hL8pNV5wiHZFZwobwxMqU-0G_ueU=s64",
      "userId": "13895335801233741998"
     },
     "user_tz": -480
    },
    "id": "51BtI-HcFNqz",
    "outputId": "54336438-505a-4da7-cae0-ac74c64dc313"
   },
   "outputs": [],
   "source": [
    "df = pd.read_csv('animes.tsv',sep = '\\t')\n",
    "data_array = np.array(df)\n",
    "anime_name = data_array[0:,0]\n",
    "anime_des = data_array[0:,10]"
   ]
  },
  {
   "cell_type": "code",
   "execution_count": 101,
   "metadata": {
    "id": "SFNaSsN1HLNR"
   },
   "outputs": [],
   "source": [
    "# process the description with NLTK\n",
    "\n",
    "\n",
    "# get a set with all words that appear in description.\n",
    "all_words = []\n",
    "for k in range(19131):\n",
    "  all_words = all_words + des_words[k]\n",
    "\n",
    "# get a set with all words (dict keys) \n",
    "all_words = set()\n",
    "for k in range(19131):\n",
    "  all_words = all_words.union(set(des_words[k]))\n",
    "\n",
    "# maps each word to an integer\n",
    "map_words = pd.Series(list(all_words))\n",
    "map_words.to_csv('/content/drive/MyDrive/Algorithmic methods for data mining/HW3/words_set.csv')\n",
    "\n"
   ]
  },
  {
   "cell_type": "code",
   "execution_count": null,
   "metadata": {
    "id": "YNfnXqZGwM_s"
   },
   "outputs": [],
   "source": [
    "#create the blank index\n",
    "all_words = list(all_words)\n",
    "index_dict = {}\n",
    "for l in range(len(all_words)):\n",
    "  index_dict[l]=[]\n",
    "\n",
    "# fill in the blank index with doucument_id\n",
    "for seq in range(19131):\n",
    "  for word in des_words[seq]:\n",
    "    Num = all_words.index(word)\n",
    "    index_dict[Num].append(seq)\n",
    "\n",
    "# Save the index\n",
    "np.save('/content/drive/MyDrive/Algorithmic methods for data mining/HW3/doucment_index.npy', index_dict) \n"
   ]
  },
  {
   "cell_type": "code",
   "execution_count": 102,
   "metadata": {
    "id": "3BHHmeOZ0zX3"
   },
   "outputs": [],
   "source": [
    "# load local data. Most data I have loaded before.\n",
    "read_dictionary = np.load('document_index.npy',allow_pickle = True).item() \n",
    "all_words = pd.read_csv('words_set.csv')\n",
    "all_words = list(all_words['0'])\n",
    "df = pd.read_csv('animes.tsv',sep = '\\t')\n",
    "data_array = np.array(df)\n",
    "anime_name = data_array[0:,0]\n",
    "anime_des = data_array[0:,10]\n",
    "f = open('link_set.txt','r',encoding = 'utf-8') \n",
    "link_set = f.readlines()\n",
    "link = []\n",
    "for line in link_set:\n",
    "  line = line[0:-1]\n",
    "  link.append(line)"
   ]
  },
  {
   "cell_type": "markdown",
   "metadata": {
    "id": "mbNvJXIWO-_0"
   },
   "source": [
    "Examples of first search engine:\n",
    "\n",
    "[Code of Search Engine function is in *ADMhw3functions.py*]"
   ]
  },
  {
   "cell_type": "code",
   "execution_count": null,
   "metadata": {
    "colab": {
     "base_uri": "https://localhost:8080/",
     "height": 144
    },
    "executionInfo": {
     "elapsed": 5298,
     "status": "ok",
     "timestamp": 1636733859356,
     "user": {
      "displayName": "Xufeng Zhang",
      "photoUrl": "https://lh3.googleusercontent.com/a-/AOh14GjDsphL-029hL8pNV5wiHZFZwobwxMqU-0G_ueU=s64",
      "userId": "13895335801233741998"
     },
     "user_tz": -480
    },
    "id": "RjHVJY4-PDvL",
    "outputId": "0b72136a-4e55-48d0-b2b5-a4c7be752906"
   },
   "outputs": [
    {
     "name": "stdout",
     "output_type": "stream",
     "text": [
      "Please input the key words:\n",
      "dragon ball\n"
     ]
    },
    {
     "data": {
      "text/html": [
       "<div>\n",
       "<style scoped>\n",
       "    .dataframe tbody tr th:only-of-type {\n",
       "        vertical-align: middle;\n",
       "    }\n",
       "\n",
       "    .dataframe tbody tr th {\n",
       "        vertical-align: top;\n",
       "    }\n",
       "\n",
       "    .dataframe thead th {\n",
       "        text-align: right;\n",
       "    }\n",
       "</style>\n",
       "<table border=\"1\" class=\"dataframe\">\n",
       "  <thead>\n",
       "    <tr style=\"text-align: right;\">\n",
       "      <th></th>\n",
       "      <th>animeTitle</th>\n",
       "      <th>animeDescription</th>\n",
       "      <th>Url</th>\n",
       "    </tr>\n",
       "  </thead>\n",
       "  <tbody>\n",
       "    <tr>\n",
       "      <th>1</th>\n",
       "      <td>Dragon Ball Movie 3: Makafushi...</td>\n",
       "      <td>Emperor Chiaotzu&amp;#039;s wife has gone missing...</td>\n",
       "      <td>https://myanimelist.net/anime/892/Dragon_Ball_...</td>\n",
       "    </tr>\n",
       "    <tr>\n",
       "      <th>2</th>\n",
       "      <td>Dragon Ball</td>\n",
       "      <td>Gokuu Son is a young boy who lives in the woo...</td>\n",
       "      <td>https://myanimelist.net/anime/223/Dragon_Ball</td>\n",
       "    </tr>\n",
       "  </tbody>\n",
       "</table>\n",
       "</div>"
      ],
      "text/plain": [
       "                           animeTitle  ...                                                Url\n",
       "1  Dragon Ball Movie 3: Makafushi...   ...  https://myanimelist.net/anime/892/Dragon_Ball_...\n",
       "2                        Dragon Ball   ...      https://myanimelist.net/anime/223/Dragon_Ball\n",
       "\n",
       "[2 rows x 3 columns]"
      ]
     },
     "execution_count": 94,
     "metadata": {},
     "output_type": "execute_result"
    }
   ],
   "source": [
    "# You can find the functions we defined in ADMhw3functions.py\n",
    "output1 = SearchEngine() \n",
    "output1"
   ]
  },
  {
   "cell_type": "code",
   "execution_count": null,
   "metadata": {
    "colab": {
     "base_uri": "https://localhost:8080/",
     "height": 450
    },
    "executionInfo": {
     "elapsed": 7045,
     "status": "ok",
     "timestamp": 1636733876279,
     "user": {
      "displayName": "Xufeng Zhang",
      "photoUrl": "https://lh3.googleusercontent.com/a-/AOh14GjDsphL-029hL8pNV5wiHZFZwobwxMqU-0G_ueU=s64",
      "userId": "13895335801233741998"
     },
     "user_tz": -480
    },
    "id": "_I5thBa2POxz",
    "outputId": "885d528a-59cf-4636-c6b7-b9b97ced4f39"
   },
   "outputs": [
    {
     "name": "stdout",
     "output_type": "stream",
     "text": [
      "Please input the key words:\n",
      "help friend\n"
     ]
    },
    {
     "data": {
      "text/html": [
       "<div>\n",
       "<style scoped>\n",
       "    .dataframe tbody tr th:only-of-type {\n",
       "        vertical-align: middle;\n",
       "    }\n",
       "\n",
       "    .dataframe tbody tr th {\n",
       "        vertical-align: top;\n",
       "    }\n",
       "\n",
       "    .dataframe thead th {\n",
       "        text-align: right;\n",
       "    }\n",
       "</style>\n",
       "<table border=\"1\" class=\"dataframe\">\n",
       "  <thead>\n",
       "    <tr style=\"text-align: right;\">\n",
       "      <th></th>\n",
       "      <th>animeTitle</th>\n",
       "      <th>animeDescription</th>\n",
       "      <th>Url</th>\n",
       "    </tr>\n",
       "  </thead>\n",
       "  <tbody>\n",
       "    <tr>\n",
       "      <th>1</th>\n",
       "      <td>Karneval (TV)</td>\n",
       "      <td>While in search of his precious friend, a you...</td>\n",
       "      <td>https://myanimelist.net/anime/16035/Karneval_TV</td>\n",
       "    </tr>\n",
       "    <tr>\n",
       "      <th>2</th>\n",
       "      <td>Clannad</td>\n",
       "      <td>Tomoya Okazaki is a delinquent who finds life...</td>\n",
       "      <td>https://myanimelist.net/anime/2167/Clannad</td>\n",
       "    </tr>\n",
       "    <tr>\n",
       "      <th>3</th>\n",
       "      <td>Boruto: Naruto the Movie</td>\n",
       "      <td>The spirited Boruto Uzumaki, son of Seventh H...</td>\n",
       "      <td>https://myanimelist.net/anime/28755/Boruto__Na...</td>\n",
       "    </tr>\n",
       "    <tr>\n",
       "      <th>4</th>\n",
       "      <td>Hibike! Euphonium Movie 1: Kit...</td>\n",
       "      <td>After swearing off music due to an incident a...</td>\n",
       "      <td>https://myanimelist.net/anime/31989/Hibike_Eup...</td>\n",
       "    </tr>\n",
       "    <tr>\n",
       "      <th>5</th>\n",
       "      <td>Little Monica Monogatari</td>\n",
       "      <td>Will, an orphan originally from Little Monica...</td>\n",
       "      <td>https://myanimelist.net/anime/1785/Little_Moni...</td>\n",
       "    </tr>\n",
       "    <tr>\n",
       "      <th>...</th>\n",
       "      <td>...</td>\n",
       "      <td>...</td>\n",
       "      <td>...</td>\n",
       "    </tr>\n",
       "    <tr>\n",
       "      <th>117</th>\n",
       "      <td>Crayon Shin-chan</td>\n",
       "      <td>There is no such thing as an uneventful day i...</td>\n",
       "      <td>https://myanimelist.net/anime/966/Crayon_Shin-...</td>\n",
       "    </tr>\n",
       "    <tr>\n",
       "      <th>118</th>\n",
       "      <td>Nanatsuko Nezumi Series</td>\n",
       "      <td>Seven mouse children and their normal lives. ...</td>\n",
       "      <td>https://myanimelist.net/anime/35619/Nanatsuko_...</td>\n",
       "    </tr>\n",
       "    <tr>\n",
       "      <th>119</th>\n",
       "      <td>Eun-sil-i</td>\n",
       "      <td>In-hye and Sun-mi visit their hometown, a sma...</td>\n",
       "      <td>https://myanimelist.net/anime/30193/Eun-sil-i</td>\n",
       "    </tr>\n",
       "    <tr>\n",
       "      <th>120</th>\n",
       "      <td>Hashiri Tsuzukete Yokattatte.</td>\n",
       "      <td>Minato visits a recitation at an anime event ...</td>\n",
       "      <td>https://myanimelist.net/anime/38254/Hashiri_Ts...</td>\n",
       "    </tr>\n",
       "    <tr>\n",
       "      <th>121</th>\n",
       "      <td>Tsumamigui</td>\n",
       "      <td>What can a widowed woman do when she gets tha...</td>\n",
       "      <td>https://myanimelist.net/anime/1403/Tsumamigui</td>\n",
       "    </tr>\n",
       "  </tbody>\n",
       "</table>\n",
       "<p>121 rows × 3 columns</p>\n",
       "</div>"
      ],
      "text/plain": [
       "                             animeTitle  ...                                                Url\n",
       "1                        Karneval (TV)   ...    https://myanimelist.net/anime/16035/Karneval_TV\n",
       "2                              Clannad   ...         https://myanimelist.net/anime/2167/Clannad\n",
       "3             Boruto: Naruto the Movie   ...  https://myanimelist.net/anime/28755/Boruto__Na...\n",
       "4    Hibike! Euphonium Movie 1: Kit...   ...  https://myanimelist.net/anime/31989/Hibike_Eup...\n",
       "5             Little Monica Monogatari   ...  https://myanimelist.net/anime/1785/Little_Moni...\n",
       "..                                  ...  ...                                                ...\n",
       "117                   Crayon Shin-chan   ...  https://myanimelist.net/anime/966/Crayon_Shin-...\n",
       "118            Nanatsuko Nezumi Series   ...  https://myanimelist.net/anime/35619/Nanatsuko_...\n",
       "119                          Eun-sil-i   ...      https://myanimelist.net/anime/30193/Eun-sil-i\n",
       "120      Hashiri Tsuzukete Yokattatte.   ...  https://myanimelist.net/anime/38254/Hashiri_Ts...\n",
       "121                         Tsumamigui   ...      https://myanimelist.net/anime/1403/Tsumamigui\n",
       "\n",
       "[121 rows x 3 columns]"
      ]
     },
     "execution_count": 95,
     "metadata": {},
     "output_type": "execute_result"
    }
   ],
   "source": [
    "output2 = SearchEngine()\n",
    "output2"
   ]
  },
  {
   "cell_type": "markdown",
   "metadata": {
    "id": "5aj8e4BGOM_a"
   },
   "source": [
    "### 2.2 Conjunctive query & Ranking score\n"
   ]
  },
  {
   "cell_type": "code",
   "execution_count": null,
   "metadata": {
    "id": "Y_QWluGOe6im"
   },
   "outputs": [],
   "source": [
    "# Calculate the tfidf, and reorganize the dictionary\n",
    "for i in range(len(all_words)):\n",
    "  tfidf_list = tfidf(i)\n",
    "  key_num = read_dictionary[i]\n",
    "  new_key_value = []\n",
    "  for j in range(len(key_num)):\n",
    "    newitemij = [tfidf_list[j],key_num[j]]\n",
    "    new_key_value.append(newitemij)\n",
    "  read_dictionary[i] = new_key_value"
   ]
  },
  {
   "cell_type": "code",
   "execution_count": null,
   "metadata": {
    "colab": {
     "base_uri": "https://localhost:8080/"
    },
    "executionInfo": {
     "elapsed": 714,
     "status": "ok",
     "timestamp": 1636728776514,
     "user": {
      "displayName": "Xufeng Zhang",
      "photoUrl": "https://lh3.googleusercontent.com/a-/AOh14GjDsphL-029hL8pNV5wiHZFZwobwxMqU-0G_ueU=s64",
      "userId": "13895335801233741998"
     },
     "user_tz": -480
    },
    "id": "nzIWnfQ3jGlW",
    "outputId": "dfcabcf2-098a-4be2-f4fd-2f42930be8c9"
   },
   "outputs": [
    {
     "name": "stdout",
     "output_type": "stream",
     "text": [
      "[[0.06401990477261936, 1763]]\n",
      "[[0.09761450826716218, 16789]]\n",
      "[[0.050559309410171185, 18290]]\n",
      "[[0.06636706853269145, 4361], [0.04840029307356503, 6017], [0.08505294219723564, 19112]]\n",
      "[[0.0510832400776341, 1533]]\n"
     ]
    }
   ],
   "source": [
    "for i in range(5):  \n",
    "  print(read_dictionary[i])\n",
    "# Now we get a dictionary index with tfidf and document_id  ---->  index{i}:[tfidf,document_id]"
   ]
  },
  {
   "cell_type": "markdown",
   "metadata": {
    "id": "bAezLkIB_whQ"
   },
   "source": [
    "Examples of SearchEngine2:\n",
    "\n",
    "[Code of SearchEngine2 function is in *ADMhw3functions.py*]"
   ]
  },
  {
   "cell_type": "code",
   "execution_count": null,
   "metadata": {
    "colab": {
     "base_uri": "https://localhost:8080/",
     "height": 144
    },
    "executionInfo": {
     "elapsed": 9077,
     "status": "ok",
     "timestamp": 1636735067261,
     "user": {
      "displayName": "Xufeng Zhang",
      "photoUrl": "https://lh3.googleusercontent.com/a-/AOh14GjDsphL-029hL8pNV5wiHZFZwobwxMqU-0G_ueU=s64",
      "userId": "13895335801233741998"
     },
     "user_tz": -480
    },
    "id": "AJaA0773-wvY",
    "outputId": "fe7d4ac4-2dd5-4493-a324-0f187951e9f3"
   },
   "outputs": [
    {
     "name": "stdout",
     "output_type": "stream",
     "text": [
      "Please input the key words:\n",
      "dragon ball\n"
     ]
    },
    {
     "data": {
      "text/html": [
       "<div>\n",
       "<style scoped>\n",
       "    .dataframe tbody tr th:only-of-type {\n",
       "        vertical-align: middle;\n",
       "    }\n",
       "\n",
       "    .dataframe tbody tr th {\n",
       "        vertical-align: top;\n",
       "    }\n",
       "\n",
       "    .dataframe thead th {\n",
       "        text-align: right;\n",
       "    }\n",
       "</style>\n",
       "<table border=\"1\" class=\"dataframe\">\n",
       "  <thead>\n",
       "    <tr style=\"text-align: right;\">\n",
       "      <th></th>\n",
       "      <th>animeTitle</th>\n",
       "      <th>animeDescription</th>\n",
       "      <th>Url</th>\n",
       "      <th>Similarity</th>\n",
       "    </tr>\n",
       "  </thead>\n",
       "  <tbody>\n",
       "    <tr>\n",
       "      <th>1</th>\n",
       "      <td>Dragon Ball Movie 3: Makafushi...</td>\n",
       "      <td>Emperor Chiaotzu&amp;#039;s wife has gone missing...</td>\n",
       "      <td>https://myanimelist.net/anime/892/Dragon_Ball_...</td>\n",
       "      <td>0.212814</td>\n",
       "    </tr>\n",
       "    <tr>\n",
       "      <th>2</th>\n",
       "      <td>Dragon Ball</td>\n",
       "      <td>Gokuu Son is a young boy who lives in the woo...</td>\n",
       "      <td>https://myanimelist.net/anime/223/Dragon_Ball</td>\n",
       "      <td>0.079556</td>\n",
       "    </tr>\n",
       "  </tbody>\n",
       "</table>\n",
       "</div>"
      ],
      "text/plain": [
       "                           animeTitle  ... Similarity\n",
       "1  Dragon Ball Movie 3: Makafushi...   ...   0.212814\n",
       "2                        Dragon Ball   ...   0.079556\n",
       "\n",
       "[2 rows x 4 columns]"
      ]
     },
     "execution_count": 113,
     "metadata": {},
     "output_type": "execute_result"
    }
   ],
   "source": [
    "print(\"Please input the key words:\")\n",
    "key_words = input().split()\n",
    "output3 = SearchEngine2(key_words)\n",
    "output3"
   ]
  },
  {
   "cell_type": "code",
   "execution_count": null,
   "metadata": {
    "colab": {
     "base_uri": "https://localhost:8080/",
     "height": 424
    },
    "executionInfo": {
     "elapsed": 10578,
     "status": "ok",
     "timestamp": 1636735138527,
     "user": {
      "displayName": "Xufeng Zhang",
      "photoUrl": "https://lh3.googleusercontent.com/a-/AOh14GjDsphL-029hL8pNV5wiHZFZwobwxMqU-0G_ueU=s64",
      "userId": "13895335801233741998"
     },
     "user_tz": -480
    },
    "id": "o5ctYYj9AzOf",
    "outputId": "619bceb2-47bd-4f62-b19c-40f2ee886f81"
   },
   "outputs": [
    {
     "name": "stdout",
     "output_type": "stream",
     "text": [
      "Please input the key words:\n",
      "help friend\n"
     ]
    },
    {
     "data": {
      "text/html": [
       "<div>\n",
       "<style scoped>\n",
       "    .dataframe tbody tr th:only-of-type {\n",
       "        vertical-align: middle;\n",
       "    }\n",
       "\n",
       "    .dataframe tbody tr th {\n",
       "        vertical-align: top;\n",
       "    }\n",
       "\n",
       "    .dataframe thead th {\n",
       "        text-align: right;\n",
       "    }\n",
       "</style>\n",
       "<table border=\"1\" class=\"dataframe\">\n",
       "  <thead>\n",
       "    <tr style=\"text-align: right;\">\n",
       "      <th></th>\n",
       "      <th>animeTitle</th>\n",
       "      <th>animeDescription</th>\n",
       "      <th>Url</th>\n",
       "      <th>Similarity</th>\n",
       "    </tr>\n",
       "  </thead>\n",
       "  <tbody>\n",
       "    <tr>\n",
       "      <th>1</th>\n",
       "      <td>Shi Ye Miao Yin</td>\n",
       "      <td>Yang Yao is a renowned exorcist who drives ou...</td>\n",
       "      <td>https://myanimelist.net/anime/44411/Shi_Ye_Mia...</td>\n",
       "      <td>0.206284</td>\n",
       "    </tr>\n",
       "    <tr>\n",
       "      <th>2</th>\n",
       "      <td>Esper Mami</td>\n",
       "      <td>Mami Sakura used to be a normal junior high s...</td>\n",
       "      <td>https://myanimelist.net/anime/3023/Esper_Mami</td>\n",
       "      <td>0.202260</td>\n",
       "    </tr>\n",
       "    <tr>\n",
       "      <th>3</th>\n",
       "      <td>Dengeki Oshioki Musume Gootama...</td>\n",
       "      <td>Mari Amachi is a very devout Christian who tr...</td>\n",
       "      <td>https://myanimelist.net/anime/5025/Dengeki_Osh...</td>\n",
       "      <td>0.199007</td>\n",
       "    </tr>\n",
       "    <tr>\n",
       "      <th>4</th>\n",
       "      <td>Tayo-ui Jangnangam Adventure</td>\n",
       "      <td>When Bella finds out that all the toys were n...</td>\n",
       "      <td>https://myanimelist.net/anime/40030/Tayo-ui_Ja...</td>\n",
       "      <td>0.196960</td>\n",
       "    </tr>\n",
       "    <tr>\n",
       "      <th>5</th>\n",
       "      <td>Bakemonogatari</td>\n",
       "      <td>Koyomi Araragi, a third-year high school stud...</td>\n",
       "      <td>https://myanimelist.net/anime/5081/Bakemonogatari</td>\n",
       "      <td>0.192308</td>\n",
       "    </tr>\n",
       "    <tr>\n",
       "      <th>6</th>\n",
       "      <td>Lulin Da Maoxian</td>\n",
       "      <td>When a girl named Rainie runs away from home ...</td>\n",
       "      <td>https://myanimelist.net/anime/31205/Lulin_Da_M...</td>\n",
       "      <td>0.189737</td>\n",
       "    </tr>\n",
       "    <tr>\n",
       "      <th>7</th>\n",
       "      <td>Hidari no O&amp;#039;Clock!!</td>\n",
       "      <td>Yuu Shinozaki is fed up with living according...</td>\n",
       "      <td>https://myanimelist.net/anime/8967/Hidari_no_O...</td>\n",
       "      <td>0.178647</td>\n",
       "    </tr>\n",
       "    <tr>\n",
       "      <th>8</th>\n",
       "      <td>Tsumamigui</td>\n",
       "      <td>What can a widowed woman do when she gets tha...</td>\n",
       "      <td>https://myanimelist.net/anime/1403/Tsumamigui</td>\n",
       "      <td>0.178017</td>\n",
       "    </tr>\n",
       "    <tr>\n",
       "      <th>9</th>\n",
       "      <td>Xiong Chumo: Tanxian Riji</td>\n",
       "      <td>Ninth season of Boonie Bears. The Bear Brothe...</td>\n",
       "      <td>https://myanimelist.net/anime/37102/Xiong_Chum...</td>\n",
       "      <td>0.174964</td>\n",
       "    </tr>\n",
       "    <tr>\n",
       "      <th>10</th>\n",
       "      <td>Kodai Ouja Kyouryuu King</td>\n",
       "      <td>Dr. Taylor was on a paleontology mission with...</td>\n",
       "      <td>https://myanimelist.net/anime/3576/Kodai_Ouja_...</td>\n",
       "      <td>0.173749</td>\n",
       "    </tr>\n",
       "  </tbody>\n",
       "</table>\n",
       "</div>"
      ],
      "text/plain": [
       "                            animeTitle  ... Similarity\n",
       "1                     Shi Ye Miao Yin   ...   0.206284\n",
       "2                          Esper Mami   ...   0.202260\n",
       "3   Dengeki Oshioki Musume Gootama...   ...   0.199007\n",
       "4        Tayo-ui Jangnangam Adventure   ...   0.196960\n",
       "5                      Bakemonogatari   ...   0.192308\n",
       "6                    Lulin Da Maoxian   ...   0.189737\n",
       "7            Hidari no O&#039;Clock!!   ...   0.178647\n",
       "8                          Tsumamigui   ...   0.178017\n",
       "9           Xiong Chumo: Tanxian Riji   ...   0.174964\n",
       "10           Kodai Ouja Kyouryuu King   ...   0.173749\n",
       "\n",
       "[10 rows x 4 columns]"
      ]
     },
     "execution_count": 115,
     "metadata": {},
     "output_type": "execute_result"
    }
   ],
   "source": [
    "print(\"Please input the key words:\")\n",
    "key_words = input().split()\n",
    "output4 = SearchEngine2(key_words)\n",
    "output4"
   ]
  },
  {
   "cell_type": "markdown",
   "metadata": {},
   "source": [
    "## Question 3: Define a new score!\n"
   ]
  },
  {
   "cell_type": "code",
   "execution_count": 122,
   "metadata": {},
   "outputs": [],
   "source": [
    "normInt = lambda x : [int(truncate(str(i).replace(',',''))) if i == i else 0 for i in x]\n",
    "normString = lambda x : [i.translate(str.maketrans('', '', string.punctuation)).lower().split() if len(i) > 0 else None for i in x.fillna('')  ]\n",
    "normFloat = lambda x : [round(float(str(i).replace(',',''))) if i == i else 0 for i in x]\n",
    "newdf = pd.DataFrame()\n",
    "newdf['animeTitle'] = normString(df['animeTitle '])\n",
    "newdf['animeTitle1'] = df['animeTitle ']\n",
    "newdf['animeType'] = normString(df[' animeType '])\n",
    "newdf['animeNumEpisode'] = normString(df[' animeNumEpisode '])\n",
    "newdf['releaseDate'] = normDate(df[' releaseDate '])\n",
    "newdf['endDate'] = normDate(df[' endDate '])\n",
    "newdf['animeNumMembers'] = np.int64(df[' animeNumMembers '])\n",
    "newdf['animeScore'] = convert_dtype_float(df[' animeScore '])\n",
    "newdf['animeUsers'] = normString(df[' animeUsers '])\n",
    "newdf['animeRank'] = normString(df[' animeRank '])\n",
    "newdf['animePopularity'] = np.int64(df[' animePopularity '])\n",
    "newdf['animeDescription'] = normString(df[' animeDescription '])\n",
    "newdf['animeRelated'] = normString(df[' animeRelated '])\n",
    "newdf['animeCharacters'] = normString(df[' animeCharacters '])\n",
    "newdf['animeVoices'] = normString(df[' animeVoices '])\n",
    "newdf['animeStaff'] = normString(df[' animeStaff'])\n",
    "newdf['index'] = np.arange(1,19132,1)\n",
    "df['index'] = np.arange(1,19132,1)\n"
   ]
  },
  {
   "cell_type": "markdown",
   "metadata": {},
   "source": [
    "After receiving an input from a user, we can assign to each word and each number in the query an update score. Such score depends on a wide list of rules: let's look at all those rules in details:\n",
    "\n",
    "For each element $w_i$ in the query:\n",
    "  - if there is a match between the query-element and an element belonging to the ***'animeTitle'*** variable:            $score+= (1/len(t))$***2**       \n",
    "  (where ***'t'*** is the animeTitle that contains the matched element, and ***'2'*** is the 'weight' of the match)\n",
    " \n",
    "  - if there is a match between the query-element and an element belonging to ***'animeStaff'*** variable:            $score+= (1/len(s))$***1.5**     \n",
    "  (where ***'s'*** is the animeStaff that contains the matched element, and ***'1.5'*** is the 'weight' of the match)\n",
    "  \n",
    "  \n",
    "  - if there is a match between the query-element and an element belonging to ***'animeCharacters'*** variable:            $score+= (1/len(c))$***1.5**       \n",
    "  (where ***'c'*** represents the animeCharacters that contain the matched element, and ***'1.5'*** is the 'weight' of the match)\n",
    "  \n",
    "  - if there is a match between the query-element and an element belonging to ***'animeVoices'*** variable:            $score+= (1/len(v))$***1.5**       \n",
    "  (where ***'v'*** represents the animeVoices that contain the matched element, and ***'1.5'*** is the 'weight' of the match)\n",
    "  \n",
    "  \n",
    "  - if there is a match between the query-element and an element belonging to ***'animeType'*** variable:            $score+= $***0.5***       \n",
    "  (where ***'0.5'*** is the 'weight' of the match)\n",
    "  \n",
    "  \n",
    "  \n",
    "  - if there is a match between the query-element and an element belonging to ***'animeScore'*** variable:            $score+= $***0.5***       \n",
    "  (where ***'0.5'*** is the 'weight' of the match)\n",
    "  \n",
    "  \n",
    "  - if there is a match between the query-element and an element belonging to ***'animeNumEpisode'*** variable:            $score+= $***0.75***       \n",
    "  (where ***'0.75'*** is the 'weight' of the match)\n",
    "  \n",
    "  \n",
    "  - if there is a match between the query-element and an element belonging to ***'animePopularity'*** variable:            $score+= $***0.5***       \n",
    "  (where ***'0.5'*** is the 'weight' of the match)\n"
   ]
  },
  {
   "cell_type": "markdown",
   "metadata": {},
   "source": [
    "$score=\\sum_{i\\in index}\\sum_{q\\in query}2\\frac{1[q\\in animeTitle_i]}{\\left |animeTitle_i\\right |}+1.5\\frac{1[q\\in animeStaff_i]}{\\left |animeStaff_i\\right |}+1.5\\frac{1[q\\in animeCharacters_i]}{\\left |animeCharacters_i\\right |}+1.5\\frac{1[q\\in animeVoices_i]}{\\left |animeVoices_i\\right |}+1\\frac{0.5[q\\in animeType_i]}{\\left |animeType_i\\right |}+\\frac{0.5[q\\in animeScore_i]}{\\left |animeScore_i\\right |}+\\frac{0.75[q\\in animeNumEpisode_i]}{\\left |animeNumEpisode_i\\right |} + \\frac{0.5[q\\in animePopularity_i]}{\\left |animePopularity_i\\right |} + 1cosine\\:similarity_{i,q}$"
   ]
  },
  {
   "cell_type": "markdown",
   "metadata": {},
   "source": [
    "Example of new scoring function:\n",
    "\n",
    "[Code of search function is in *ADMhw3functions.py*]"
   ]
  },
  {
   "cell_type": "code",
   "execution_count": 137,
   "metadata": {},
   "outputs": [
    {
     "data": {
      "text/html": [
       "<div>\n",
       "<style scoped>\n",
       "    .dataframe tbody tr th:only-of-type {\n",
       "        vertical-align: middle;\n",
       "    }\n",
       "\n",
       "    .dataframe tbody tr th {\n",
       "        vertical-align: top;\n",
       "    }\n",
       "\n",
       "    .dataframe thead th {\n",
       "        text-align: right;\n",
       "    }\n",
       "</style>\n",
       "<table border=\"1\" class=\"dataframe\">\n",
       "  <thead>\n",
       "    <tr style=\"text-align: right;\">\n",
       "      <th></th>\n",
       "      <th>animeTitle</th>\n",
       "      <th>animeDescription</th>\n",
       "      <th>Url</th>\n",
       "      <th>score</th>\n",
       "    </tr>\n",
       "  </thead>\n",
       "  <tbody>\n",
       "    <tr>\n",
       "      <th>2</th>\n",
       "      <td>Dragon Ball</td>\n",
       "      <td>Gokuu Son is a young boy who lives in the woo...</td>\n",
       "      <td>https://myanimelist.net/anime/223/Dragon_Ball</td>\n",
       "      <td>2.079556</td>\n",
       "    </tr>\n",
       "    <tr>\n",
       "      <th>1</th>\n",
       "      <td>Dragon Ball Movie 3: Makafushi...</td>\n",
       "      <td>Emperor Chiaotzu&amp;#039;s wife has gone missing...</td>\n",
       "      <td>https://myanimelist.net/anime/892/Dragon_Ball_...</td>\n",
       "      <td>1.012814</td>\n",
       "    </tr>\n",
       "  </tbody>\n",
       "</table>\n",
       "</div>"
      ],
      "text/plain": [
       "                           animeTitle  \\\n",
       "2                        Dragon Ball    \n",
       "1  Dragon Ball Movie 3: Makafushi...    \n",
       "\n",
       "                                    animeDescription  \\\n",
       "2   Gokuu Son is a young boy who lives in the woo...   \n",
       "1   Emperor Chiaotzu&#039;s wife has gone missing...   \n",
       "\n",
       "                                                 Url     score  \n",
       "2      https://myanimelist.net/anime/223/Dragon_Ball  2.079556  \n",
       "1  https://myanimelist.net/anime/892/Dragon_Ball_...  1.012814  "
      ]
     },
     "execution_count": 137,
     "metadata": {},
     "output_type": "execute_result"
    }
   ],
   "source": [
    "# Code of search function is in *ADMhw3functions.py*\n",
    "\n",
    "key_words = input()\n",
    "result = search(key_words)\n",
    "result\n"
   ]
  },
  {
   "cell_type": "markdown",
   "metadata": {},
   "source": [
    "## Question 4: Understanding the anime's reviews\n"
   ]
  },
  {
   "cell_type": "markdown",
   "metadata": {},
   "source": [
    "We previously parsed the html pages for the first 4 comments of each anime.\n",
    "In each review we saved the first 500 characters.\n",
    "We stored the reviews in 'review.tsv' file."
   ]
  },
  {
   "cell_type": "code",
   "execution_count": 164,
   "metadata": {},
   "outputs": [],
   "source": [
    "import spacy\n",
    "import nltk\n",
    "from nltk.corpus import stopwords\n",
    "from nltk.tokenize import word_tokenize\n",
    "from nltk.stem import WordNetLemmatizer\n",
    "from sklearn.linear_model import LogisticRegression\n",
    "from sklearn.metrics import accuracy_score\n",
    "from sklearn.model_selection import train_test_split\n",
    "from nltk.sentiment import SentimentIntensityAnalyzer\n",
    "\n",
    "review = pd.read_csv('./review.tsv',sep = '\\t')"
   ]
  },
  {
   "cell_type": "markdown",
   "metadata": {},
   "source": [
    "Below we used clean_text function in order to clean the reviews string."
   ]
  },
  {
   "cell_type": "code",
   "execution_count": 144,
   "metadata": {},
   "outputs": [],
   "source": [
    "nlp = spacy.load('en_core_web_sm')\n",
    "lemmatizer = WordNetLemmatizer()\n",
    "stop_words = set(stopwords.words('english'))\n",
    "def clean_text(text):\n",
    "    words = word_tokenize(text)\n",
    "    filtered_words = []\n",
    "    for word in words:\n",
    "        if word.lower() not in stop_words and word.isalpha():\n",
    "            filtered_words.append(lemmatizer.lemmatize(word.lower()))\n",
    "    return filtered_words"
   ]
  },
  {
   "cell_type": "code",
   "execution_count": 151,
   "metadata": {},
   "outputs": [],
   "source": [
    "word_list = review.iloc[:, 1].apply(lambda text: clean_text(text))\n",
    "# add a list of words for each anime\n",
    "df['review_words'] = word_list"
   ]
  },
  {
   "cell_type": "markdown",
   "metadata": {},
   "source": [
    "Here you can see the top 20 words with most accurance."
   ]
  },
  {
   "cell_type": "code",
   "execution_count": 176,
   "metadata": {},
   "outputs": [
    {
     "data": {
      "text/plain": [
       "anime        25089\n",
       "story        21752\n",
       "quot         19681\n",
       "one          16198\n",
       "character    16143\n",
       "like         14642\n",
       "series       14184\n",
       "show         13384\n",
       "episode      12846\n",
       "first        11335\n",
       "br           10612\n",
       "really        9910\n",
       "good          8950\n",
       "time          8856\n",
       "movie         7841\n",
       "get           7616\n",
       "season        7406\n",
       "much          7346\n",
       "girl          6818\n",
       "thing         6584\n",
       "dtype: int64"
      ]
     },
     "execution_count": 176,
     "metadata": {},
     "output_type": "execute_result"
    }
   ],
   "source": [
    "flat_list = [item for sublist in word_list for item in sublist]\n",
    "pd.Series(flat_list).value_counts()[:20]"
   ]
  },
  {
   "cell_type": "code",
   "execution_count": 175,
   "metadata": {},
   "outputs": [],
   "source": [
    "# Review compounds score using SentimentIntensityAnalyzer model\n",
    "\n",
    "sia = SentimentIntensityAnalyzer()\n",
    "review_compound = []\n",
    "for item in word_list:\n",
    "    text =''\n",
    "    for word in item:\n",
    "        text += word + ' '\n",
    "    if sia.polarity_scores(text)[\"compound\"] > 0:\n",
    "        review_compound.append('pos')\n",
    "    else:\n",
    "        review_compound.append('neg')\n",
    "df['review_compound'] = review_compound"
   ]
  },
  {
   "cell_type": "code",
   "execution_count": 218,
   "metadata": {},
   "outputs": [
    {
     "data": {
      "text/html": [
       "<div>\n",
       "<style scoped>\n",
       "    .dataframe tbody tr th:only-of-type {\n",
       "        vertical-align: middle;\n",
       "    }\n",
       "\n",
       "    .dataframe tbody tr th {\n",
       "        vertical-align: top;\n",
       "    }\n",
       "\n",
       "    .dataframe thead th {\n",
       "        text-align: right;\n",
       "    }\n",
       "</style>\n",
       "<table border=\"1\" class=\"dataframe\">\n",
       "  <thead>\n",
       "    <tr style=\"text-align: right;\">\n",
       "      <th></th>\n",
       "      <th></th>\n",
       "      <th>animeTitle</th>\n",
       "    </tr>\n",
       "    <tr>\n",
       "      <th>animeType</th>\n",
       "      <th>review_compound</th>\n",
       "      <th></th>\n",
       "    </tr>\n",
       "  </thead>\n",
       "  <tbody>\n",
       "    <tr>\n",
       "      <th rowspan=\"2\" valign=\"top\"></th>\n",
       "      <th>neg</th>\n",
       "      <td>1459</td>\n",
       "    </tr>\n",
       "    <tr>\n",
       "      <th>pos</th>\n",
       "      <td>240</td>\n",
       "    </tr>\n",
       "    <tr>\n",
       "      <th rowspan=\"2\" valign=\"top\">Movie</th>\n",
       "      <th>neg</th>\n",
       "      <td>2163</td>\n",
       "    </tr>\n",
       "    <tr>\n",
       "      <th>pos</th>\n",
       "      <td>1314</td>\n",
       "    </tr>\n",
       "    <tr>\n",
       "      <th rowspan=\"2\" valign=\"top\">ONA</th>\n",
       "      <th>neg</th>\n",
       "      <td>1580</td>\n",
       "    </tr>\n",
       "    <tr>\n",
       "      <th>pos</th>\n",
       "      <td>630</td>\n",
       "    </tr>\n",
       "    <tr>\n",
       "      <th rowspan=\"2\" valign=\"top\">OVA</th>\n",
       "      <th>neg</th>\n",
       "      <td>2048</td>\n",
       "    </tr>\n",
       "    <tr>\n",
       "      <th>pos</th>\n",
       "      <td>1885</td>\n",
       "    </tr>\n",
       "    <tr>\n",
       "      <th rowspan=\"2\" valign=\"top\">Special</th>\n",
       "      <th>neg</th>\n",
       "      <td>1470</td>\n",
       "    </tr>\n",
       "    <tr>\n",
       "      <th>pos</th>\n",
       "      <td>823</td>\n",
       "    </tr>\n",
       "    <tr>\n",
       "      <th rowspan=\"2\" valign=\"top\">TV</th>\n",
       "      <th>neg</th>\n",
       "      <td>2393</td>\n",
       "    </tr>\n",
       "    <tr>\n",
       "      <th>pos</th>\n",
       "      <td>3126</td>\n",
       "    </tr>\n",
       "  </tbody>\n",
       "</table>\n",
       "</div>"
      ],
      "text/plain": [
       "                             animeTitle \n",
       " animeType  review_compound             \n",
       "            neg                     1459\n",
       "            pos                      240\n",
       " Movie      neg                     2163\n",
       "            pos                     1314\n",
       " ONA        neg                     1580\n",
       "            pos                      630\n",
       " OVA        neg                     2048\n",
       "            pos                     1885\n",
       " Special    neg                     1470\n",
       "            pos                      823\n",
       " TV         neg                     2393\n",
       "            pos                     3126"
      ]
     },
     "execution_count": 218,
     "metadata": {},
     "output_type": "execute_result"
    }
   ],
   "source": [
    "df.groupby([' animeType ', 'review_compound']).count()[[ 'animeTitle ']]"
   ]
  },
  {
   "cell_type": "markdown",
   "metadata": {},
   "source": [
    "As you can see anime with TV type has the most positive compounds. After That Movie type has the second most positive compounds"
   ]
  },
  {
   "cell_type": "code",
   "execution_count": 193,
   "metadata": {},
   "outputs": [
    {
     "data": {
      "text/plain": [
       "0.08762809044942291"
      ]
     },
     "execution_count": 193,
     "metadata": {},
     "output_type": "execute_result"
    }
   ],
   "source": [
    "from scipy.stats import spearmanr\n",
    "corr , _ = spearmanr(df[' animeNumEpisode '], df['review_compound'])\n",
    "corr"
   ]
  },
  {
   "cell_type": "markdown",
   "metadata": {},
   "source": [
    "With the result above we can see that there is not any relation between number od episodes and the review compound"
   ]
  },
  {
   "cell_type": "markdown",
   "metadata": {},
   "source": [
    "## Question 5: Algorithmic question"
   ]
  },
  {
   "cell_type": "code",
   "execution_count": 1,
   "metadata": {},
   "outputs": [],
   "source": [
    "import time\n",
    "import numpy as np\n",
    "np.random.seed(50)  # seed for reproducibility\n",
    "n=20000 # size of array\n",
    "Min=1 # min number\n",
    "Max=10 # max number\n",
    "appointments = np.random.randint(Min,Max, size=n)  # One-dimensional array with casual integer number betweenmin and max\n",
    "appointments=appointments*10 #to have all of the elements as multiple of 10"
   ]
  },
  {
   "cell_type": "code",
   "execution_count": 2,
   "metadata": {},
   "outputs": [],
   "source": [
    "#recursive function (almost correct)\n",
    "\n",
    "def maximaizeschedule_2 (schedule, total):\n",
    "    del_v = []\n",
    "    n = len(schedule)\n",
    "    check = np.zeros(n, dtype= int) \n",
    "    i=np.amax(schedule)\n",
    "    \n",
    "    for j in range(0, n ,1) : \n",
    "    \n",
    "        if j == 0:               \n",
    "                if check[j+1] != 1:\n",
    "                    if schedule[j] == i:   \n",
    "                        total+=i      \n",
    "                        check[j] = 1   \n",
    "                        del_v.extend((j,j+1))\n",
    "                        \n",
    "        if j == n-1:             \n",
    "            if check[j-1] != 1:   \n",
    "                if schedule[j] == i:\n",
    "                    total+=i\n",
    "                    check[j] = 1\n",
    "                    del_v.extend ((j-1,j))\n",
    "\n",
    "        if  j!=0  and   j != n-1: \n",
    "            if check[j+1] != 1 and check[j-1] != 1:  \n",
    "                if schedule[j] == i:\n",
    "                    total+=i\n",
    "                    check[j] = 1\n",
    "                    del_v.extend ((j-1, j ,j+1))\n",
    "        \n",
    "    del_v = set(del_v)\n",
    "    a = list(schedule)\n",
    "    \n",
    "    for index in sorted(del_v, reverse=True):\n",
    "        del a[index]   \n",
    "    if len(a) == 0:\n",
    "        return total\n",
    "    \n",
    "    if len(a) == 1 :\n",
    "        return (total + a[0])\n",
    "\n",
    "    else:\n",
    "        return maximaizeschedule_2(np.array(a), total)"
   ]
  },
  {
   "cell_type": "code",
   "execution_count": 3,
   "metadata": {},
   "outputs": [],
   "source": [
    "#function with for loops\n",
    "\n",
    "def maximaizeschedule_1 (schedule): \n",
    "    n = len(schedule)\n",
    "    check = np.zeros(n, dtype= int) #array of zeros used to check positions\n",
    "    total = 0  #total value initializaion\n",
    "\n",
    "    for i in range(np.amax(schedule), 0 , -10): # range of possible value\n",
    "        for j in range(0, n ,1) :   # for each possible value the whole array is searched\n",
    "\n",
    "            if j == 0:               # boundaries condition (starting point)\n",
    "                if check[j+1] != 1:\n",
    "                    if schedule[j] == i:   # if at first position you only need to check the following\n",
    "                        total+=i      # if found and condition si fulfilled sum that value to total\n",
    "                        check[j] = 1    #assign the position of a taken value to not repeatedly take it\n",
    "\n",
    "            elif j == n-1:             # boundaries condition (ending point)\n",
    "                if check[j-1] != 1:   #if at last position you only need to check the prevous\n",
    "                    if schedule[j] == i:\n",
    "                        total+=i\n",
    "                        check[j] = 1\n",
    "\n",
    "            else:\n",
    "                if check[j+1] != 1 and check[j-1] != 1:  #checking if the value is permitted to be take\n",
    "                    if schedule[j] == i:\n",
    "                        total+=i\n",
    "                        check[j] = 1\n",
    "    return total         "
   ]
  },
  {
   "cell_type": "code",
   "execution_count": 4,
   "metadata": {},
   "outputs": [
    {
     "name": "stdout",
     "output_type": "stream",
     "text": [
      "The maximum time that the personal trainer could work is: 551410\n",
      "The execution time of the alghoritm is:  0.07366204261779785 seconds\n"
     ]
    }
   ],
   "source": [
    "start_time = time.time()\n",
    "result=maximaizeschedule_1(appointments)\n",
    "print(\"The maximum time that the personal trainer could work is:\", result)\n",
    "print(\"The execution time of the alghoritm is:  %s seconds\" % (time.time() - start_time))"
   ]
  },
  {
   "cell_type": "code",
   "execution_count": null,
   "metadata": {},
   "outputs": [
    {
     "name": "stdout",
     "output_type": "stream",
     "text": [
      "The maximum time that the personal trainer could work is: 497490\n",
      "The execution time of the alghoritm is:  0.19008183479309082 seconds\n"
     ]
    }
   ],
   "source": [
    "start_time = time.time()\n",
    "result=maximaizeschedule_2(appointments, 0)\n",
    "print(\"The maximum time that the personal trainer could work is:\", result)\n",
    "print(\"The execution time of the alghoritm is:  %s seconds\" % (time.time() - start_time))"
   ]
  },
  {
   "cell_type": "markdown",
   "metadata": {},
   "source": [
    "Below you can see the time analysis of the algorithm"
   ]
  },
  {
   "cell_type": "markdown",
   "metadata": {},
   "source": [
    "Time Analysis <img src=\"img.jpg\" width=600 height=800 />\n"
   ]
  },
  {
   "cell_type": "markdown",
   "metadata": {},
   "source": [
    "<img src=\"img1.jpg\" width=800 height=600 />\n"
   ]
  }
 ],
 "metadata": {
  "colab": {
   "collapsed_sections": [
    "hNdYnOhwvQNi",
    "KqIXhqZwytR5",
    "p1GlAO1Zx_71",
    "2BJyuFVC0skt",
    "qXEMkba4FPeX",
    "5aj8e4BGOM_a"
   ],
   "name": "ADM_HW3_28.ipynb",
   "provenance": []
  },
  "kernelspec": {
   "display_name": "Python 3 (ipykernel)",
   "language": "python",
   "name": "python3"
  },
  "language_info": {
   "codemirror_mode": {
    "name": "ipython",
    "version": 3
   },
   "file_extension": ".py",
   "mimetype": "text/x-python",
   "name": "python",
   "nbconvert_exporter": "python",
   "pygments_lexer": "ipython3",
   "version": "3.9.6"
  }
 },
 "nbformat": 4,
 "nbformat_minor": 1
}
